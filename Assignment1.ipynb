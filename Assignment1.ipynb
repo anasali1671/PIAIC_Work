{
 "cells": [
  {
   "cell_type": "markdown",
   "metadata": {},
   "source": [
    "# Assignment :1\n",
    "## PIAIC BATCH 36 UIT SUNDAY\n",
    "### Anas Ali Siddiqui\n",
    "### PIAIC172103"
   ]
  },
  {
   "cell_type": "markdown",
   "metadata": {},
   "source": [
    "#### 1.Simple Message: Assign a message to a variable, and then print that message."
   ]
  },
  {
   "cell_type": "code",
   "execution_count": 1,
   "metadata": {},
   "outputs": [
    {
     "name": "stdout",
     "output_type": "stream",
     "text": [
      "My Name is Anas Ali Siddiqui and My id is PIAIC172103\n"
     ]
    }
   ],
   "source": [
    "name = \"Anas Ali Siddiqui\"\n",
    "id = \"PIAIC172103\"\n",
    "print(f'My Name is {name} and My id is {id}')"
   ]
  },
  {
   "cell_type": "markdown",
   "metadata": {},
   "source": [
    "#### 2.Find a quote from a famous person you admire. Print the quote and the name of its author."
   ]
  },
  {
   "cell_type": "code",
   "execution_count": 2,
   "metadata": {},
   "outputs": [
    {
     "name": "stdout",
     "output_type": "stream",
     "text": [
      "Albert Einstein once said once said, \"A person who never made a mistake never tried anything new.\"\n"
     ]
    }
   ],
   "source": [
    "quote = \"A person who never made a mistake never tried anything new.\"\n",
    "\n",
    "person = \"Albert Einstein once said\"\n",
    "\n",
    "print (f'{person} once said, \"{quote}\"')"
   ]
  },
  {
   "cell_type": "markdown",
   "metadata": {},
   "source": [
    "#### fav number"
   ]
  },
  {
   "cell_type": "code",
   "execution_count": 3,
   "metadata": {},
   "outputs": [
    {
     "name": "stdout",
     "output_type": "stream",
     "text": [
      "My favourite number is 9\n"
     ]
    }
   ],
   "source": [
    "fav_number = 9\n",
    "\n",
    "print (f\"My favourite number is {fav_number}\")"
   ]
  },
  {
   "cell_type": "markdown",
   "metadata": {},
   "source": [
    "#### 3.Calculate Area of a Circle."
   ]
  },
  {
   "cell_type": "code",
   "execution_count": 4,
   "metadata": {
    "scrolled": true
   },
   "outputs": [
    {
     "name": "stdout",
     "output_type": "stream",
     "text": [
      "Give radius to determine Area of Circle\n",
      "0.5\n",
      "0.7855\n"
     ]
    }
   ],
   "source": [
    "radius = float(input(\"Give radius to determine Area of Circle\\n\"))\n",
    "area = (radius**2)*3.142\n",
    "print (area)"
   ]
  },
  {
   "cell_type": "markdown",
   "metadata": {},
   "source": [
    "#### Check Number either positive, negative or zero."
   ]
  },
  {
   "cell_type": "code",
   "execution_count": 5,
   "metadata": {},
   "outputs": [
    {
     "name": "stdout",
     "output_type": "stream",
     "text": [
      "Enter number\n",
      "-1\n",
      "Negative Number Entered\n"
     ]
    }
   ],
   "source": [
    "user_input_number= int(input(\"Enter number\\n\"))\n",
    "\n",
    "if user_input_number == 0:\n",
    "    print (\"Zero Entered\")\n",
    "elif user_input_number >= 0:\n",
    "    print (\"Positive Number Entered\")\n",
    "else:\n",
    "    print (\"Negative Number Entered\")"
   ]
  },
  {
   "cell_type": "markdown",
   "metadata": {},
   "source": [
    "#### Vowel Tester Write a Python program to test whether a passed letter is a vowel or not"
   ]
  },
  {
   "cell_type": "code",
   "execution_count": 6,
   "metadata": {},
   "outputs": [
    {
     "name": "stdout",
     "output_type": "stream",
     "text": [
      "Enter a character:\n",
      "A\n",
      "Letter A is a vowel\n"
     ]
    }
   ],
   "source": [
    "\n",
    "# taking user input\n",
    "ch = input(\"Enter a character:\\n\")\n",
    "\n",
    "if(ch =='A' or ch =='a' or ch =='E' or ch =='e' or ch =='I'\n",
    " or ch =='i' or ch =='O' or ch =='o' or ch =='U' or ch =='u'):\n",
    "    print (f\"Letter {ch} is a vowel\")\n",
    "else:\n",
    "    print (f\"Letter {ch} is not vowel\")\n",
    "\n"
   ]
  },
  {
   "cell_type": "markdown",
   "metadata": {},
   "source": [
    "#### BMI Calculator "
   ]
  },
  {
   "cell_type": "code",
   "execution_count": 7,
   "metadata": {},
   "outputs": [
    {
     "name": "stdout",
     "output_type": "stream",
     "text": [
      "Enter Height in Cm: 180\n",
      "Enter Weight in kg: 75\n",
      "Your BMI is 23.15\n"
     ]
    }
   ],
   "source": [
    "height = int(input(\"Enter Height in Cm: \"))\n",
    "weight = int(input(\"Enter Weight in kg: \"))\n",
    "\n",
    "h_in_m = height * 0.01\n",
    "\n",
    "bmi = weight/h_in_m**2\n",
    "bmi_float = \"{:.2f}\".format(bmi)\n",
    "\n",
    "print (f\"Your BMI is {bmi_float}\")"
   ]
  },
  {
   "cell_type": "code",
   "execution_count": 8,
   "metadata": {},
   "outputs": [
    {
     "name": "stdout",
     "output_type": "stream",
     "text": [
      "Anas Hamza Taha Naqqash Kasif Habib Ali\n"
     ]
    }
   ],
   "source": [
    "names = [\"Anas\", \"Hamza\", \"Taha\", \"Naqqash\", \"Kasif\", \"Habib\", \"Ali\"]\n",
    "print (names[0],names[1],names[2],names[3],names[4],names[5],names[6])"
   ]
  },
  {
   "cell_type": "code",
   "execution_count": 9,
   "metadata": {},
   "outputs": [
    {
     "name": "stdout",
     "output_type": "stream",
     "text": [
      "Hi How are you. Anas\n",
      "Hi How are you. Hamza\n",
      "Hi How are you. Taha\n",
      "Hi How are you. Naqqash\n",
      "Hi How are you. Kasif\n",
      "Hi How are you. Habib\n",
      "Hi How are you. Ali\n"
     ]
    }
   ],
   "source": [
    "for name in names:\n",
    "    print (f\"Hi How are you. {name}\")"
   ]
  },
  {
   "cell_type": "markdown",
   "metadata": {},
   "source": [
    "#### Make a python program that conatains your nine favourite dishes in a list called foods. Print the message, The first three items in the list are:"
   ]
  },
  {
   "cell_type": "code",
   "execution_count": 10,
   "metadata": {},
   "outputs": [
    {
     "name": "stdout",
     "output_type": "stream",
     "text": [
      "The first three items in the list are ['biryani', 'burger', 'pizza']\n",
      "Three items from the middle of the list are ['pasta', 'macroni', 'spheghetti']\n",
      "The last three items in the list are ['nuggets', 'corn', 'mommos']\n"
     ]
    }
   ],
   "source": [
    "foods = ['biryani','burger','pizza','pasta','macroni','spheghetti','nuggets','corn','mommos']\n",
    "print('The first three items in the list are',foods[0:3])\n",
    "print('Three items from the middle of the list are',foods[3:6])\n",
    "print('The last three items in the list are',foods[6:])"
   ]
  },
  {
   "cell_type": "code",
   "execution_count": 11,
   "metadata": {},
   "outputs": [
    {
     "name": "stdout",
     "output_type": "stream",
     "text": [
      "['biryani', 'burger', 'pizza', 'pasta', 'macroni', 'spheghetti', 'nuggets', 'corn', 'mommos']\n",
      "['biryani', 'burger', 'pizza', 'pasta', 'macroni', 'spheghetti', 'nuggets', 'corn', 'mommos', 'kabab']\n",
      "['biryani', 'burger', 'pizza', 'pasta', 'macroni', 'spheghetti', 'nuggets', 'corn', 'mommos', 'malai-boti']\n",
      "False\n",
      "my favorite foods are: biryani\n",
      "my favorite foods are: burger\n",
      "my favorite foods are: pizza\n",
      "my favorite foods are: pasta\n",
      "my favorite foods are: macroni\n",
      "my favorite foods are: spheghetti\n",
      "my favorite foods are: nuggets\n",
      "my favorite foods are: corn\n",
      "my favorite foods are: mommos\n",
      "my favorite foods are: kabab\n",
      "my friend's favorite foods are: biryani\n",
      "my friend's favorite foods are: burger\n",
      "my friend's favorite foods are: pizza\n",
      "my friend's favorite foods are: pasta\n",
      "my friend's favorite foods are: macroni\n",
      "my friend's favorite foods are: spheghetti\n",
      "my friend's favorite foods are: nuggets\n",
      "my friend's favorite foods are: corn\n",
      "my friend's favorite foods are: mommos\n",
      "my friend's favorite foods are: malai-boti\n"
     ]
    }
   ],
   "source": [
    "print (foods)\n",
    "# making of copy of friends foods list\n",
    "friends_foods = []\n",
    "for food in foods:\n",
    "    friends_foods.append(food)\n",
    "\n",
    "# deleting new appended value incase of already added\n",
    "if \"kabab\" in foods:\n",
    "    foods.remove(\"kabab\")\n",
    "    \n",
    "# appending new values in both list\n",
    "foods.append(\"kabab\")\n",
    "friends_foods.append(\"malai-boti\")\n",
    "\n",
    "print (foods)\n",
    "print (friends_foods)\n",
    "\n",
    "# proving both list are different\n",
    "print (foods == friends_foods)\n",
    "\n",
    "# looping both list\n",
    "for myfood in foods:\n",
    "    print (f\"my favorite foods are: {myfood}\")\n",
    "\n",
    "for friend_food in friends_foods:\n",
    "    print (f\"my friend's favorite foods are: {friend_food}\")"
   ]
  },
  {
   "cell_type": "code",
   "execution_count": 12,
   "metadata": {},
   "outputs": [
    {
     "name": "stdout",
     "output_type": "stream",
     "text": [
      "A is a nice guy\n",
      "l is a nice guy\n",
      "i is a nice guy\n",
      "The first three items in the list are ['Pizza', 'burger', 'pizza']\n",
      "Three items from the middle of the list are ['mommos', 'macroni', 'spheghetti']\n",
      "The last three items in the list are ['corn', 'nuggets', 'pasta']\n",
      "['Pizza', 'burger', 'pizza', 'mommos', 'macroni', 'spheghetti', 'corn', 'nuggets', 'pasta', 'chicken roll']\n",
      "['Pizza', 'burger', 'pizza', 'mommos', 'macroni', 'spheghetti', 'corn', 'nuggets', 'pasta', 'chapotla']\n",
      "My favorite pizza are : \n",
      "Pizza\n",
      "burger\n",
      "pizza\n",
      "mommos\n",
      "macroni\n",
      "spheghetti\n",
      "corn\n",
      "nuggets\n",
      "pasta\n",
      "chicken roll\n"
     ]
    }
   ],
   "source": [
    "#Start with the list you used in Question 4, but instead of just printing each person’s name, print a message to them. \n",
    "#The text of each message should be the same, but each message should be personalized with the person’s name.\n",
    "\n",
    "for friend in name:\n",
    "    print(friend,\"is a nice guy\")\n",
    "\n",
    "\n",
    "\n",
    "\n",
    "#Make a python program that conatains your nine favourite dishes in a list called foods. Print the message, \n",
    "#The first three items in the list are:\n",
    "foods = ['Pizza','burger','pizza','mommos','macroni','spheghetti','corn','nuggets','pasta']\n",
    "print('The first three items in the list are',foods[0:3])\n",
    "print('Three items from the middle of the list are',foods[3:6])\n",
    "print('The last three items in the list are',foods[6:])\n",
    "\n",
    "\n",
    "\n",
    "\n",
    "\n",
    "#Start with your program from your last Question8. Make a copy of the list of foods, and call it friend_foods. Then, \n",
    "#do the following\n",
    "#Add a new dish to the original list.\n",
    "#Add a different dish to the list friend_foods.\n",
    "#Prove that you have two separate lists\n",
    "friends_food = foods[0:9]\n",
    "foods.append(\"chicken roll\")\n",
    "friends_food.append(\"chapotla\")\n",
    "print(foods)\n",
    "print(friends_food)\n",
    "\n",
    "\n",
    "#Print the message, My favorite pizzas are: and then use a for loop to print the first list.\n",
    "#Print the message\n",
    "print(\"My favorite pizza are : \")\n",
    "for items in foods:\n",
    "    print(items)"
   ]
  },
  {
   "cell_type": "code",
   "execution_count": null,
   "metadata": {},
   "outputs": [],
   "source": []
  }
 ],
 "metadata": {
  "kernelspec": {
   "display_name": "Python 3 (ipykernel)",
   "language": "python",
   "name": "python3"
  },
  "language_info": {
   "codemirror_mode": {
    "name": "ipython",
    "version": 3
   },
   "file_extension": ".py",
   "mimetype": "text/x-python",
   "name": "python",
   "nbconvert_exporter": "python",
   "pygments_lexer": "ipython3",
   "version": "3.9.12"
  },
  "vscode": {
   "interpreter": {
    "hash": "cf61f7f99edbc6e589eadee41f2ccafca7c0c85ac7dc8cd4b70562f851d1229f"
   }
  }
 },
 "nbformat": 4,
 "nbformat_minor": 2
}
